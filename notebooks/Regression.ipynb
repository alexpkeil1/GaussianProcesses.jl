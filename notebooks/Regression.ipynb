{
 "cells": [
  {
   "cell_type": "markdown",
   "metadata": {},
   "source": [
    "# Simple GP Regression "
   ]
  },
  {
   "cell_type": "markdown",
   "metadata": {},
   "source": [
    "Gaussian processes are a powerful tool for nonlinear regression models. \n",
    "\n",
    "Assume that we have **predictor** variables $\\mathbf{X} = \\{\\mathbf{x_i}\\}_{i=1}^N \\in \\mathbb{R}^d$ and **response** variables $\\mathbf{y}=\\{y_i \\in \\mathbb{R}\\}_{i=1}^N$.\n",
    "\n",
    "The response variables $\\mathbf{y}$ are assumed to dependent on the predictors $\\mathbf{X}$,\n",
    "\n",
    "\\begin{equation}\n",
    "y_i \\sim \\mathcal{N}(f(\\mathbf{x}_i),\\sigma^2), \\ i=1,\\ldots,n,  \n",
    "\\end{equation}\n",
    "\n",
    "where $f$ is a mapping function. Treating $f$ as a random function, we assume that the distribution over $f$ is a **Gaussian process**,\n",
    "$$\n",
    "f \\sim \\mathcal{GP}(m(\\mathbf{x}),k(\\mathbf{x},\\mathbf{x}')),\n",
    "$$\n",
    "where $m(\\cdot)$ and $k(\\cdot,\\cdot)$ are the mean and kernel functions respectively."
   ]
  },
  {
   "cell_type": "markdown",
   "metadata": {},
   "source": [
    "## 1D regression example"
   ]
  },
  {
   "cell_type": "markdown",
   "metadata": {},
   "source": [
    "We start by simulating some data"
   ]
  },
  {
   "cell_type": "code",
   "execution_count": 14,
   "metadata": {},
   "outputs": [
    {
     "name": "stderr",
     "output_type": "stream",
     "text": [
      "┌ Info: Precompiling GaussianProcesses [891a1506-143c-57d2-908e-e1f8e92e6de9]\n",
      "└ @ Base loading.jl:1186\n",
      "WARNING: Method definition get_L_bar!(AbstractArray{T, 2} where T, AbstractArray{T, 1} where T, AbstractArray{T, 1} where T, PDMats.PDMat{T, S} where S<:(AbstractArray{T, 2} where T) where T<:Real) in module GaussianProcesses at /Users/akeil/.julia/packages/GaussianProcesses/Scs3U/src/GPMC.jl:144 overwritten at /Users/akeil/.julia/packages/GaussianProcesses/Scs3U/src/BKMR.jl:169.\n",
      "WARNING: Method definition (::Type{GaussianProcesses.FullCovMCMCPrecompute})(Array{Float64, 2}, Array{Float64, 1}, Array{Float64, 1}) in module GaussianProcesses at /Users/akeil/.julia/packages/GaussianProcesses/Scs3U/src/GPMC.jl:159 overwritten at /Users/akeil/.julia/packages/GaussianProcesses/Scs3U/src/BKMR.jl:184.\n",
      "WARNING: Method definition (::Type{GaussianProcesses.FullCovMCMCPrecompute})(Any, Any, Any) in module GaussianProcesses at /Users/akeil/.julia/packages/GaussianProcesses/Scs3U/src/GPMC.jl:159 overwritten at /Users/akeil/.julia/packages/GaussianProcesses/Scs3U/src/BKMR.jl:184.\n",
      "WARNING: Method definition (::Type{GaussianProcesses.FullCovMCMCPrecompute})(Int64) in module GaussianProcesses at /Users/akeil/.julia/packages/GaussianProcesses/Scs3U/src/GPMC.jl:164 overwritten at /Users/akeil/.julia/packages/GaussianProcesses/Scs3U/src/BKMR.jl:189.\n",
      "WARNING: Method definition precompute!(GaussianProcesses.FullCovMCMCPrecompute, GaussianProcesses.GPBase) in module GaussianProcesses at /Users/akeil/.julia/packages/GaussianProcesses/Scs3U/src/GPMC.jl:172 overwritten at /Users/akeil/.julia/packages/GaussianProcesses/Scs3U/src/BKMR.jl:197.\n",
      "WARNING: Method definition dll_kern!(AbstractArray{T, 1} where T, GaussianProcesses.GPBase, GaussianProcesses.FullCovMCMCPrecompute, GaussianProcesses.CovarianceStrategy) in module GaussianProcesses at /Users/akeil/.julia/packages/GaussianProcesses/Scs3U/src/GPMC.jl:178 overwritten at /Users/akeil/.julia/packages/GaussianProcesses/Scs3U/src/BKMR.jl:203.\n",
      "WARNING: Method definition dll_mean!(AbstractArray{T, 1} where T, GaussianProcesses.GPBase, GaussianProcesses.FullCovMCMCPrecompute) in module GaussianProcesses at /Users/akeil/.julia/packages/GaussianProcesses/Scs3U/src/GPMC.jl:188 overwritten at /Users/akeil/.julia/packages/GaussianProcesses/Scs3U/src/BKMR.jl:213.\n",
      "WARNING: Method definition predict_full(GaussianProcesses.BKMR{X, Z, Y, M, K, L, CS, D} where D<:GaussianProcesses.KernelData where CS<:GaussianProcesses.CovarianceStrategy where L<:GaussianProcesses.Likelihood where K<:GaussianProcesses.Kernel where M<:GaussianProcesses.Mean where Y<:(AbstractArray{#s153, 1} where #s153<:Real) where Z<:(AbstractArray{T, 2} where T) where X<:(AbstractArray{T, 2} where T), AbstractArray{T, 2} where T, AbstractArray{T, 2} where T) in module GaussianProcesses at /Users/akeil/.julia/packages/GaussianProcesses/Scs3U/src/BKMR.jl:331 overwritten at /Users/akeil/.julia/packages/GaussianProcesses/Scs3U/src/BKMR.jl:371.\n",
      "ERROR: LoadError: LoadError: syntax: invalid character \"—\" near column 2\n",
      "Stacktrace:\n",
      " [1] include at ./boot.jl:326 [inlined]\n",
      " [2] include_relative(::Module, ::String) at ./loading.jl:1038\n",
      " [3] include at ./sysimg.jl:29 [inlined]\n",
      " [4] include(::String) at /Users/akeil/.julia/packages/GaussianProcesses/Scs3U/src/GaussianProcesses.jl:1\n",
      " [5] top-level scope at none:0\n",
      " [6] include at ./boot.jl:326 [inlined]\n",
      " [7] include_relative(::Module, ::String) at ./loading.jl:1038\n",
      " [8] include(::Module, ::String) at ./sysimg.jl:29\n",
      " [9] top-level scope at none:2\n",
      " [10] eval at ./boot.jl:328 [inlined]\n",
      " [11] eval(::Expr) at ./client.jl:404\n",
      " [12] top-level scope at ./none:3\n",
      "in expression starting at /Users/akeil/.julia/packages/GaussianProcesses/Scs3U/src/BKMR.jl:500\n",
      "in expression starting at /Users/akeil/.julia/packages/GaussianProcesses/Scs3U/src/GaussianProcesses.jl:38\n"
     ]
    },
    {
     "ename": "ErrorException",
     "evalue": "Failed to precompile GaussianProcesses [891a1506-143c-57d2-908e-e1f8e92e6de9] to /Users/akeil/.julia/compiled/v1.1/GaussianProcesses/izlaf.ji.",
     "output_type": "error",
     "traceback": [
      "Failed to precompile GaussianProcesses [891a1506-143c-57d2-908e-e1f8e92e6de9] to /Users/akeil/.julia/compiled/v1.1/GaussianProcesses/izlaf.ji.",
      "",
      "Stacktrace:",
      " [1] error(::String) at ./error.jl:33",
      " [2] compilecache(::Base.PkgId, ::String) at ./loading.jl:1197",
      " [3] _require(::Base.PkgId) at ./loading.jl:960",
      " [4] require(::Base.PkgId) at ./loading.jl:858",
      " [5] require(::Module, ::Symbol) at ./loading.jl:853",
      " [6] top-level scope at In[14]:1"
     ]
    }
   ],
   "source": [
    "using GaussianProcesses\n",
    "using Random\n",
    "\n",
    "Random.seed!(20140430)\n",
    "# Training data\n",
    "n=10;                          #number of training points\n",
    "x = 2π * rand(n);              #predictors\n",
    "y = sin.(x) + 0.05*randn(n);   #regressors"
   ]
  },
  {
   "cell_type": "markdown",
   "metadata": {},
   "source": [
    "The first step in modelling with Gaussian Processes is to choose mean functions and kernels which describe the process. \n",
    "\n",
    "**Note** that all hyperparameters for the **mean** and **kernel** functions and $\\sigma$ are given on the log scale. This is true for all strictly positive hyperparameters. Gaussian Processes are represented by objects of type 'GP' and constructed from observation data, a mean function and kernel, and optionally the amount of observation noise."
   ]
  },
  {
   "cell_type": "code",
   "execution_count": 15,
   "metadata": {},
   "outputs": [
    {
     "ename": "UndefVarError",
     "evalue": "UndefVarError: MeanZero not defined",
     "output_type": "error",
     "traceback": [
      "UndefVarError: MeanZero not defined",
      "",
      "Stacktrace:",
      " [1] top-level scope at In[15]:1"
     ]
    }
   ],
   "source": [
    "#Select mean and covariance function\n",
    "mZero = MeanZero()                   #Zero mean function\n",
    "kern = SE(0.0,0.0)                   #Sqaured exponential kernel (note that hyperparameters are on the log scale)\n",
    "\n",
    "logObsNoise = -1.0                        # log standard deviation of observation noise (this is optional)\n",
    "gp = GP(x,y,mZero,kern,logObsNoise)       #Fit the GP"
   ]
  },
  {
   "cell_type": "markdown",
   "metadata": {},
   "source": [
    "Once we've fit the `GP` function to the data, we can calculate the **predicted mean** and **variance** of the function at unobserved points $\\{\\mathbf{x}^\\ast,y^\\ast\\}$, conditional on the observed data $\\mathcal{D}=\\{\\mathbf{y},\\mathbf{X}\\}$. This is done with the `predict_y` function.\n",
    "\n",
    "The `predict_y` function returns the mean vector $\\mu(\\mathbf{x}^\\ast)$ and covariance matrix (variance vector if `full_cov=false`) $\\Sigma(\\mathbf{x}^\\ast,\\mathbf{x}^{\\ast^\\top})$ of the predictive distribution,\n",
    "\\begin{equation}\n",
    "    y^\\ast|\\mathbf{x}^\\ast,\\mathcal{D} \\sim \\mathcal{N}(\\mu(\\mathbf{x}^\\ast),\\Sigma(\\mathbf{x}^\\ast,\\mathbf{x}^{\\ast^\\top})+\\sigma^2\\mathbf{I}),\n",
    "\\end{equation}\n",
    "where \n",
    "\\begin{eqnarray}\n",
    "\\mu(\\mathbf{x}^\\ast) &=& k(\\mathbf{x}^\\ast,\\mathbf{X})(k(\\mathbf{X}, \\mathbf{X}) + \\sigma_n^2 \\mathbf{I})^{-1}\\mathbf{y} \\\\ \\ \\mbox{and} \\\n",
    "\\Sigma(\\mathbf{x}^\\ast,\\mathbf{x}^{\\ast}) &=& k(\\mathbf{x}^\\ast,\\mathbf{x}^\\ast) -k(\\mathbf{x}^\\ast,\\mathbf{X})(k(\\mathbf{X}, \\mathbf{X})+ \\sigma_n^2 \\mathbf{I})^{-1} k(\\mathbf{X},\\mathbf{x}^\\ast).\n",
    "\\end{eqnarray}\n",
    "\n",
    "**Note** you can use the `predict_f` function to predict the latent function $\\mathbf{f}^\\ast$."
   ]
  },
  {
   "cell_type": "code",
   "execution_count": 16,
   "metadata": {},
   "outputs": [
    {
     "ename": "UndefVarError",
     "evalue": "UndefVarError: predict_y not defined",
     "output_type": "error",
     "traceback": [
      "UndefVarError: predict_y not defined",
      "",
      "Stacktrace:",
      " [1] top-level scope at In[16]:1"
     ]
    }
   ],
   "source": [
    "μ, σ² = predict_y(gp,range(0,stop=2π,length=100));"
   ]
  },
  {
   "cell_type": "markdown",
   "metadata": {},
   "source": [
    "Plotting GPs is straightforward and utilises the recipes approach to plotting from the [Plots.jl](https://github.com/JuliaPlots/Plots.jl) package. More information about plotting GPs and the available functionality can be found in this [notebook](https://github.com/STOR-i/GaussianProcesses.jl/blob/master/notebooks/Plotting%20GPs.ipynb).\n",
    "\n",
    "The default plot function `plot(gp)` outputs the predicted mean and variance of the function (i.e. uses `predict_f` in the background), with the uncertainty in the function represented by a confidence ribbon (set to 95% by default). All optional plotting arguments are given after `;`."
   ]
  },
  {
   "cell_type": "code",
   "execution_count": 17,
   "metadata": {},
   "outputs": [
    {
     "ename": "UndefVarError",
     "evalue": "UndefVarError: gp not defined",
     "output_type": "error",
     "traceback": [
      "UndefVarError: gp not defined",
      "",
      "Stacktrace:",
      " [1] top-level scope at In[17]:2"
     ]
    }
   ],
   "source": [
    "using Plots  #Load Plots.jl package\n",
    "\n",
    "plot(gp; xlabel=\"x\", ylabel=\"y\", title=\"Gaussian process\", legend=false, fmt=:png)      # Plot the GP"
   ]
  },
  {
   "cell_type": "markdown",
   "metadata": {},
   "source": [
    "The hyperparameters are optimized using the [Optim.jl](https://github.com/JuliaOpt/Optim.jl) package. This offers users a range of optimization algorithms which can be applied to estimate the hyperparameters using type II maximum likelihood estimation. Gradients are available for all mean and kernel functions used in the package and therefore it is recommended that the user utilizes gradient based optimization techniques. As a default, the `optimize!` function uses the `L-BFGS` solver, however, alternative solvers can be applied. "
   ]
  },
  {
   "cell_type": "code",
   "execution_count": 18,
   "metadata": {},
   "outputs": [
    {
     "ename": "UndefVarError",
     "evalue": "UndefVarError: optimize! not defined",
     "output_type": "error",
     "traceback": [
      "UndefVarError: optimize! not defined",
      "",
      "Stacktrace:",
      " [1] top-level scope at In[18]:2"
     ]
    }
   ],
   "source": [
    "using Optim\n",
    "optimize!(gp; method=ConjugateGradient())   # Optimise the hyperparameters"
   ]
  },
  {
   "cell_type": "code",
   "execution_count": 19,
   "metadata": {},
   "outputs": [
    {
     "ename": "UndefVarError",
     "evalue": "UndefVarError: gp not defined",
     "output_type": "error",
     "traceback": [
      "UndefVarError: gp not defined",
      "",
      "Stacktrace:",
      " [1] top-level scope at In[19]:1"
     ]
    }
   ],
   "source": [
    "plot(gp; legend=false, fmt=:png)   #Plot the GP after the hyperparameters have been optimised "
   ]
  },
  {
   "cell_type": "markdown",
   "metadata": {},
   "source": [
    "By default all hyperparameters or optimized. But the function `optimize!` allows also to force hyperparameters to remain constant or optimize them in a box."
   ]
  },
  {
   "cell_type": "code",
   "execution_count": 20,
   "metadata": {},
   "outputs": [
    {
     "ename": "UndefVarError",
     "evalue": "UndefVarError: optimize! not defined",
     "output_type": "error",
     "traceback": [
      "UndefVarError: optimize! not defined",
      "",
      "Stacktrace:",
      " [1] top-level scope at In[20]:1"
     ]
    }
   ],
   "source": [
    "optimize!(gp; kern = false)   # Don't optimize kernel hyperparameters\n",
    "optimize!(gp; kernbounds = [[-1, -1], [1, 1]]) # Optimize the kernel parameters in a box with lower bounds [-1, -1] and upper bounds [1, 1]"
   ]
  },
  {
   "cell_type": "markdown",
   "metadata": {},
   "source": [
    "MCMC can be run on the GPE hyperparameters through the `mcmc` function. Priors for hyperparameters of the mean and kernel parameters can be set through the `set_priors!` function. The log noise parameter of the GPE is a Uniform(0,1) distribution and currently can't be changed."
   ]
  },
  {
   "cell_type": "code",
   "execution_count": 21,
   "metadata": {},
   "outputs": [
    {
     "ename": "UndefVarError",
     "evalue": "UndefVarError: set_priors! not defined",
     "output_type": "error",
     "traceback": [
      "UndefVarError: set_priors! not defined",
      "",
      "Stacktrace:",
      " [1] top-level scope at In[21]:2"
     ]
    }
   ],
   "source": [
    "using Distributions\n",
    "\n",
    "set_priors!(kern, [Normal(), Normal()]) # Uniform(0,1) distribution assumed by default if priors not specified\n",
    "chain = mcmc(gp)\n",
    "plot(chain', label=[\"Noise\", \"SE log length\", \"SE log scale\"]; fmt=:png)"
   ]
  },
  {
   "cell_type": "markdown",
   "metadata": {},
   "source": [
    "## Multi-dimensional regression"
   ]
  },
  {
   "cell_type": "markdown",
   "metadata": {},
   "source": [
    "The regression example above can be easily extended to higher dimensions. For the purpose of visualisation, and without loss of generality, we consider a 2 dimensional regression example."
   ]
  },
  {
   "cell_type": "code",
   "execution_count": 22,
   "metadata": {},
   "outputs": [],
   "source": [
    "#Training data\n",
    "d, n = 2, 50;         #Dimension and number of observations\n",
    "x = 2π * rand(d, n);                               #Predictors\n",
    "y = vec(sin.(x[1,:]).*sin.(x[2,:])) + 0.05*rand(n);  #Responses"
   ]
  },
  {
   "cell_type": "markdown",
   "metadata": {},
   "source": [
    "For problems of dimension>1 we can use isotropic (`Iso`) kernels or automatic relevance determination (`ARD`) kernels. For `Iso` kernels, the length scale parameter $\\ell$ is the same for all dimensions. For `ARD` kernels, each dimension has different length scale parameter.\n",
    "\n",
    "The `Iso` and `ARD` kernels are implemented automatically by replacing the single length scale parameter with a vector of parameters. For example, below we use the Matern 5/2 `ARD` kernel, if we wanted to use the `Iso` alternative then we would set the kernel as `kern=Mat(5/2,0.0,0.0)`."
   ]
  },
  {
   "cell_type": "markdown",
   "metadata": {},
   "source": [
    "In this example we use a composite kernel represented as the sum of a Matern 5/2 ARD kernel and a Squared Exponential isotropic kernel. This is easily implemented using the `+` symbol, or in the case of a product kernel, using the `*` symbol (i.e. `kern = Mat(5/2,[0.0,0.0],0.0) * SE(0.0,0.0)`)."
   ]
  },
  {
   "cell_type": "code",
   "execution_count": 23,
   "metadata": {},
   "outputs": [
    {
     "ename": "UndefVarError",
     "evalue": "UndefVarError: MeanZero not defined",
     "output_type": "error",
     "traceback": [
      "UndefVarError: MeanZero not defined",
      "",
      "Stacktrace:",
      " [1] top-level scope at In[23]:1"
     ]
    }
   ],
   "source": [
    "mZero = MeanZero()                             # Zero mean function\n",
    "kern = Matern(5/2,[0.0,0.0],0.0) + SE(0.0,0.0)    # Sum kernel with Matern 5/2 ARD kernel \n",
    "                                               # with parameters [log(ℓ₁), log(ℓ₂)] = [0,0] and log(σ) = 0\n",
    "                                               # and Squared Exponential Iso kernel with\n",
    "                                               # parameters log(ℓ) = 0 and log(σ) = 0"
   ]
  },
  {
   "cell_type": "markdown",
   "metadata": {},
   "source": [
    "Fit the Gaussian process to the data using the prespecfied mean and covariance functions."
   ]
  },
  {
   "cell_type": "code",
   "execution_count": 24,
   "metadata": {},
   "outputs": [
    {
     "ename": "UndefVarError",
     "evalue": "UndefVarError: GP not defined",
     "output_type": "error",
     "traceback": [
      "UndefVarError: GP not defined",
      "",
      "Stacktrace:",
      " [1] top-level scope at In[24]:1"
     ]
    }
   ],
   "source": [
    "gp = GP(x,y,mZero,kern,-2.0)          # Fit the GP"
   ]
  },
  {
   "cell_type": "markdown",
   "metadata": {},
   "source": [
    "Using the [Optim](https://github.com/JuliaOpt/Optim.jl) package we have the option to choose from a range of optimize functions including conjugate gradients. It is also possible to fix the hyperparameters in either the mean function, kernel function or observation noise, by settting them to false in `optimize!` (e.g. `optimize!(...,domean=false)`)."
   ]
  },
  {
   "cell_type": "code",
   "execution_count": 25,
   "metadata": {},
   "outputs": [
    {
     "ename": "UndefVarError",
     "evalue": "UndefVarError: optimize! not defined",
     "output_type": "error",
     "traceback": [
      "UndefVarError: optimize! not defined",
      "",
      "Stacktrace:",
      " [1] top-level scope at In[25]:1"
     ]
    }
   ],
   "source": [
    "optimize!(gp)                         # Optimize the hyperparameters"
   ]
  },
  {
   "cell_type": "markdown",
   "metadata": {},
   "source": [
    "A range of plotting options are availbe through the [Plots.jl](https://github.com/JuliaPlots/Plots.jl) package."
   ]
  },
  {
   "cell_type": "code",
   "execution_count": 26,
   "metadata": {},
   "outputs": [
    {
     "ename": "UndefVarError",
     "evalue": "UndefVarError: gp not defined",
     "output_type": "error",
     "traceback": [
      "UndefVarError: gp not defined",
      "",
      "Stacktrace:",
      " [1] top-level scope at In[26]:1"
     ]
    }
   ],
   "source": [
    "plot(contour(gp) ,heatmap(gp); fmt=:png)"
   ]
  }
 ],
 "metadata": {
  "kernelspec": {
   "display_name": "Julia 1.1.1",
   "language": "julia",
   "name": "julia-1.1"
  },
  "language_info": {
   "file_extension": ".jl",
   "mimetype": "application/julia",
   "name": "julia",
   "version": "1.1.1"
  }
 },
 "nbformat": 4,
 "nbformat_minor": 2
}
